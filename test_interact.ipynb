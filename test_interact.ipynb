{
  "cells": [
    {
      "cell_type": "code",
      "source": [
        "import pandas as p"
      ],
      "outputs": [],
      "execution_count": 2,
      "metadata": {
        "collapsed": false,
        "outputHidden": false,
        "inputHidden": false
      }
    },
    {
      "cell_type": "code",
      "source": [
        "#file=p.ExcelFile('CT_anotaciones_exportado.xlsx')\n",
        "file=p.ExcelFile('CT_anotaciones.xlsx')\n",
        "data=p.read_excel(file,0)\n",
        "data1=p.read_excel(file,1)\n",
        "file.close()"
      ],
      "outputs": [],
      "execution_count": 4,
      "metadata": {
        "collapsed": false,
        "outputHidden": false,
        "inputHidden": false
      }
    },
    {
      "cell_type": "code",
      "source": [
        "data.iloc[1][:]"
      ],
      "outputs": [
        {
          "output_type": "execute_result",
          "execution_count": 5,
          "data": {
            "text/plain": [
              "email                aandres034@ikasle.ehu.eus\n",
              "Apellido1                               ANDRES\n",
              "Apellido2                            ANSAGASTI\n",
              "Nombre                                     ANE\n",
              "Grado                                       IE\n",
              "Lengua                              Castellano\n",
              "Sexo                                     Mujer\n",
              "Primera matrícula                    2019/2020\n",
              "Última matrícula                            --\n",
              "Observaciones                              NaN\n",
              "Name: 1, dtype: object"
            ]
          },
          "metadata": {}
        }
      ],
      "execution_count": 5,
      "metadata": {
        "collapsed": false,
        "outputHidden": false,
        "inputHidden": false
      }
    },
    {
      "cell_type": "code",
      "source": [
        "#data.loc[data['Unnamed: 0'] == 'aakordagoitia001@ikasle.ehu.eus']\n",
        "len(data.loc[data['Sexo'] == 'Mujer'])/(len(data.loc[data['Sexo'] == 'Mujer']) +len( data.loc[data['Sexo'] == 'Hombre']))*100\n"
      ],
      "outputs": [
        {
          "output_type": "execute_result",
          "execution_count": 6,
          "data": {
            "text/plain": [
              "25.0"
            ]
          },
          "metadata": {}
        }
      ],
      "execution_count": 6,
      "metadata": {
        "collapsed": false,
        "outputHidden": false,
        "inputHidden": false
      }
    },
    {
      "cell_type": "code",
      "source": [
        "data1.loc[data1['email'] == 'darancon001@ikasle.ehu.eus']\n",
        "data1.loc[data1['email'] == 'darancon001@ikasle.ehu.eus']['Calificación']"
      ],
      "outputs": [
        {
          "output_type": "execute_result",
          "execution_count": 7,
          "data": {
            "text/plain": [
              "0    2.0\n",
              "Name: Calificación, dtype: float64"
            ]
          },
          "metadata": {}
        }
      ],
      "execution_count": 7,
      "metadata": {
        "collapsed": false,
        "outputHidden": false,
        "inputHidden": false
      }
    },
    {
      "cell_type": "code",
      "source": [
        "sum([ii[1] for ii in (data1.loc[data1['email'] == 'mbasauri002@ikasle.ehu.eus']['Calificación']).items()])/(len(data1.loc[data1['email'] == 'mbasauri002@ikasle.ehu.eus']['Calificación'])*1.0)\n",
        "\n"
      ],
      "outputs": [
        {
          "output_type": "execute_result",
          "execution_count": 8,
          "data": {
            "text/plain": [
              "7.0"
            ]
          },
          "metadata": {}
        }
      ],
      "execution_count": 8,
      "metadata": {
        "collapsed": false,
        "outputHidden": false,
        "inputHidden": false
      }
    },
    {
      "cell_type": "code",
      "source": [
        "data1"
      ],
      "outputs": [
        {
          "output_type": "execute_result",
          "execution_count": 9,
          "data": {
            "text/plain": [
              "                             email                              CT  \\\n",
              "0       darancon001@ikasle.ehu.eus  CT2 - Capacidad de aprendizaje   \n",
              "1  raseguinolaza001@ikasle.ehu.eus  CT2 - Capacidad de aprendizaje   \n",
              "2       mbasauri002@ikasle.ehu.eus  CT2 - Capacidad de aprendizaje   \n",
              "3       mbasauri002@ikasle.ehu.eus  CT2 - Capacidad de aprendizaje   \n",
              "4         ynieto003@ikasle.ehu.eus                             NaN   \n",
              "\n",
              "                                          RA       ND  \\\n",
              "0               5a - Conocer la terminología  Nivel 1   \n",
              "1  2b - Analizar y sintetizar la información  Nivel 3   \n",
              "2       2a - Utilizar fuentes de información  Nivel 2   \n",
              "3                2c - Construir conocimiento  Nivel 3   \n",
              "4                                        NaN      NaN   \n",
              "\n",
              "                                          Asignatura      Fecha Evaluación  \\\n",
              "0  26841 - Dispositivos Electrónicos y Optoelectr... 2019-07-16   Continua   \n",
              "1                                26633 - Electrónica 2019-07-17      Final   \n",
              "2                26662 - Fundamentos de Programación 2019-07-18   Continua   \n",
              "3  25138 - Komunikazioa Euskaraz: Zientzia eta Te... 2019-07-19   Continua   \n",
              "4                                                NaN        NaT        NaN   \n",
              "\n",
              "   Calificación  \n",
              "0           2.0  \n",
              "1          10.0  \n",
              "2           5.0  \n",
              "3           9.0  \n",
              "4           NaN  "
            ],
            "text/html": [
              "<div>\n",
              "<style scoped>\n",
              "    .dataframe tbody tr th:only-of-type {\n",
              "        vertical-align: middle;\n",
              "    }\n",
              "\n",
              "    .dataframe tbody tr th {\n",
              "        vertical-align: top;\n",
              "    }\n",
              "\n",
              "    .dataframe thead th {\n",
              "        text-align: right;\n",
              "    }\n",
              "</style>\n",
              "<table border=\"1\" class=\"dataframe\">\n",
              "  <thead>\n",
              "    <tr style=\"text-align: right;\">\n",
              "      <th></th>\n",
              "      <th>email</th>\n",
              "      <th>CT</th>\n",
              "      <th>RA</th>\n",
              "      <th>ND</th>\n",
              "      <th>Asignatura</th>\n",
              "      <th>Fecha</th>\n",
              "      <th>Evaluación</th>\n",
              "      <th>Calificación</th>\n",
              "    </tr>\n",
              "  </thead>\n",
              "  <tbody>\n",
              "    <tr>\n",
              "      <th>0</th>\n",
              "      <td>darancon001@ikasle.ehu.eus</td>\n",
              "      <td>CT2 - Capacidad de aprendizaje</td>\n",
              "      <td>5a - Conocer la terminología</td>\n",
              "      <td>Nivel 1</td>\n",
              "      <td>26841 - Dispositivos Electrónicos y Optoelectr...</td>\n",
              "      <td>2019-07-16</td>\n",
              "      <td>Continua</td>\n",
              "      <td>2.0</td>\n",
              "    </tr>\n",
              "    <tr>\n",
              "      <th>1</th>\n",
              "      <td>raseguinolaza001@ikasle.ehu.eus</td>\n",
              "      <td>CT2 - Capacidad de aprendizaje</td>\n",
              "      <td>2b - Analizar y sintetizar la información</td>\n",
              "      <td>Nivel 3</td>\n",
              "      <td>26633 - Electrónica</td>\n",
              "      <td>2019-07-17</td>\n",
              "      <td>Final</td>\n",
              "      <td>10.0</td>\n",
              "    </tr>\n",
              "    <tr>\n",
              "      <th>2</th>\n",
              "      <td>mbasauri002@ikasle.ehu.eus</td>\n",
              "      <td>CT2 - Capacidad de aprendizaje</td>\n",
              "      <td>2a - Utilizar fuentes de información</td>\n",
              "      <td>Nivel 2</td>\n",
              "      <td>26662 - Fundamentos de Programación</td>\n",
              "      <td>2019-07-18</td>\n",
              "      <td>Continua</td>\n",
              "      <td>5.0</td>\n",
              "    </tr>\n",
              "    <tr>\n",
              "      <th>3</th>\n",
              "      <td>mbasauri002@ikasle.ehu.eus</td>\n",
              "      <td>CT2 - Capacidad de aprendizaje</td>\n",
              "      <td>2c - Construir conocimiento</td>\n",
              "      <td>Nivel 3</td>\n",
              "      <td>25138 - Komunikazioa Euskaraz: Zientzia eta Te...</td>\n",
              "      <td>2019-07-19</td>\n",
              "      <td>Continua</td>\n",
              "      <td>9.0</td>\n",
              "    </tr>\n",
              "    <tr>\n",
              "      <th>4</th>\n",
              "      <td>ynieto003@ikasle.ehu.eus</td>\n",
              "      <td>NaN</td>\n",
              "      <td>NaN</td>\n",
              "      <td>NaN</td>\n",
              "      <td>NaN</td>\n",
              "      <td>NaT</td>\n",
              "      <td>NaN</td>\n",
              "      <td>NaN</td>\n",
              "    </tr>\n",
              "  </tbody>\n",
              "</table>\n",
              "</div>"
            ]
          },
          "metadata": {}
        }
      ],
      "execution_count": 9,
      "metadata": {
        "collapsed": false,
        "outputHidden": false,
        "inputHidden": false
      }
    },
    {
      "cell_type": "code",
      "source": [
        "(data1[:-1]).describe(include='all')"
      ],
      "outputs": [
        {
          "output_type": "execute_result",
          "execution_count": 10,
          "data": {
            "text/plain": [
              "                             email                              CT  \\\n",
              "count                            4                               4   \n",
              "unique                           3                               1   \n",
              "top     mbasauri002@ikasle.ehu.eus  CT2 - Capacidad de aprendizaje   \n",
              "freq                             2                               4   \n",
              "first                          NaN                             NaN   \n",
              "last                           NaN                             NaN   \n",
              "mean                           NaN                             NaN   \n",
              "std                            NaN                             NaN   \n",
              "min                            NaN                             NaN   \n",
              "25%                            NaN                             NaN   \n",
              "50%                            NaN                             NaN   \n",
              "75%                            NaN                             NaN   \n",
              "max                            NaN                             NaN   \n",
              "\n",
              "                                  RA       ND  \\\n",
              "count                              4        4   \n",
              "unique                             4        3   \n",
              "top     5a - Conocer la terminología  Nivel 3   \n",
              "freq                               1        2   \n",
              "first                            NaN      NaN   \n",
              "last                             NaN      NaN   \n",
              "mean                             NaN      NaN   \n",
              "std                              NaN      NaN   \n",
              "min                              NaN      NaN   \n",
              "25%                              NaN      NaN   \n",
              "50%                              NaN      NaN   \n",
              "75%                              NaN      NaN   \n",
              "max                              NaN      NaN   \n",
              "\n",
              "                                               Asignatura  \\\n",
              "count                                                   4   \n",
              "unique                                                  4   \n",
              "top     26841 - Dispositivos Electrónicos y Optoelectr...   \n",
              "freq                                                    1   \n",
              "first                                                 NaN   \n",
              "last                                                  NaN   \n",
              "mean                                                  NaN   \n",
              "std                                                   NaN   \n",
              "min                                                   NaN   \n",
              "25%                                                   NaN   \n",
              "50%                                                   NaN   \n",
              "75%                                                   NaN   \n",
              "max                                                   NaN   \n",
              "\n",
              "                      Fecha Evaluación  Calificación  \n",
              "count                     4          4      4.000000  \n",
              "unique                    4          2           NaN  \n",
              "top     2019-07-19 00:00:00   Continua           NaN  \n",
              "freq                      1          3           NaN  \n",
              "first   2019-07-16 00:00:00        NaN           NaN  \n",
              "last    2019-07-19 00:00:00        NaN           NaN  \n",
              "mean                    NaN        NaN      6.500000  \n",
              "std                     NaN        NaN      3.696846  \n",
              "min                     NaN        NaN      2.000000  \n",
              "25%                     NaN        NaN      4.250000  \n",
              "50%                     NaN        NaN      7.000000  \n",
              "75%                     NaN        NaN      9.250000  \n",
              "max                     NaN        NaN     10.000000  "
            ],
            "text/html": [
              "<div>\n",
              "<style scoped>\n",
              "    .dataframe tbody tr th:only-of-type {\n",
              "        vertical-align: middle;\n",
              "    }\n",
              "\n",
              "    .dataframe tbody tr th {\n",
              "        vertical-align: top;\n",
              "    }\n",
              "\n",
              "    .dataframe thead th {\n",
              "        text-align: right;\n",
              "    }\n",
              "</style>\n",
              "<table border=\"1\" class=\"dataframe\">\n",
              "  <thead>\n",
              "    <tr style=\"text-align: right;\">\n",
              "      <th></th>\n",
              "      <th>email</th>\n",
              "      <th>CT</th>\n",
              "      <th>RA</th>\n",
              "      <th>ND</th>\n",
              "      <th>Asignatura</th>\n",
              "      <th>Fecha</th>\n",
              "      <th>Evaluación</th>\n",
              "      <th>Calificación</th>\n",
              "    </tr>\n",
              "  </thead>\n",
              "  <tbody>\n",
              "    <tr>\n",
              "      <th>count</th>\n",
              "      <td>4</td>\n",
              "      <td>4</td>\n",
              "      <td>4</td>\n",
              "      <td>4</td>\n",
              "      <td>4</td>\n",
              "      <td>4</td>\n",
              "      <td>4</td>\n",
              "      <td>4.000000</td>\n",
              "    </tr>\n",
              "    <tr>\n",
              "      <th>unique</th>\n",
              "      <td>3</td>\n",
              "      <td>1</td>\n",
              "      <td>4</td>\n",
              "      <td>3</td>\n",
              "      <td>4</td>\n",
              "      <td>4</td>\n",
              "      <td>2</td>\n",
              "      <td>NaN</td>\n",
              "    </tr>\n",
              "    <tr>\n",
              "      <th>top</th>\n",
              "      <td>mbasauri002@ikasle.ehu.eus</td>\n",
              "      <td>CT2 - Capacidad de aprendizaje</td>\n",
              "      <td>5a - Conocer la terminología</td>\n",
              "      <td>Nivel 3</td>\n",
              "      <td>26841 - Dispositivos Electrónicos y Optoelectr...</td>\n",
              "      <td>2019-07-19 00:00:00</td>\n",
              "      <td>Continua</td>\n",
              "      <td>NaN</td>\n",
              "    </tr>\n",
              "    <tr>\n",
              "      <th>freq</th>\n",
              "      <td>2</td>\n",
              "      <td>4</td>\n",
              "      <td>1</td>\n",
              "      <td>2</td>\n",
              "      <td>1</td>\n",
              "      <td>1</td>\n",
              "      <td>3</td>\n",
              "      <td>NaN</td>\n",
              "    </tr>\n",
              "    <tr>\n",
              "      <th>first</th>\n",
              "      <td>NaN</td>\n",
              "      <td>NaN</td>\n",
              "      <td>NaN</td>\n",
              "      <td>NaN</td>\n",
              "      <td>NaN</td>\n",
              "      <td>2019-07-16 00:00:00</td>\n",
              "      <td>NaN</td>\n",
              "      <td>NaN</td>\n",
              "    </tr>\n",
              "    <tr>\n",
              "      <th>last</th>\n",
              "      <td>NaN</td>\n",
              "      <td>NaN</td>\n",
              "      <td>NaN</td>\n",
              "      <td>NaN</td>\n",
              "      <td>NaN</td>\n",
              "      <td>2019-07-19 00:00:00</td>\n",
              "      <td>NaN</td>\n",
              "      <td>NaN</td>\n",
              "    </tr>\n",
              "    <tr>\n",
              "      <th>mean</th>\n",
              "      <td>NaN</td>\n",
              "      <td>NaN</td>\n",
              "      <td>NaN</td>\n",
              "      <td>NaN</td>\n",
              "      <td>NaN</td>\n",
              "      <td>NaN</td>\n",
              "      <td>NaN</td>\n",
              "      <td>6.500000</td>\n",
              "    </tr>\n",
              "    <tr>\n",
              "      <th>std</th>\n",
              "      <td>NaN</td>\n",
              "      <td>NaN</td>\n",
              "      <td>NaN</td>\n",
              "      <td>NaN</td>\n",
              "      <td>NaN</td>\n",
              "      <td>NaN</td>\n",
              "      <td>NaN</td>\n",
              "      <td>3.696846</td>\n",
              "    </tr>\n",
              "    <tr>\n",
              "      <th>min</th>\n",
              "      <td>NaN</td>\n",
              "      <td>NaN</td>\n",
              "      <td>NaN</td>\n",
              "      <td>NaN</td>\n",
              "      <td>NaN</td>\n",
              "      <td>NaN</td>\n",
              "      <td>NaN</td>\n",
              "      <td>2.000000</td>\n",
              "    </tr>\n",
              "    <tr>\n",
              "      <th>25%</th>\n",
              "      <td>NaN</td>\n",
              "      <td>NaN</td>\n",
              "      <td>NaN</td>\n",
              "      <td>NaN</td>\n",
              "      <td>NaN</td>\n",
              "      <td>NaN</td>\n",
              "      <td>NaN</td>\n",
              "      <td>4.250000</td>\n",
              "    </tr>\n",
              "    <tr>\n",
              "      <th>50%</th>\n",
              "      <td>NaN</td>\n",
              "      <td>NaN</td>\n",
              "      <td>NaN</td>\n",
              "      <td>NaN</td>\n",
              "      <td>NaN</td>\n",
              "      <td>NaN</td>\n",
              "      <td>NaN</td>\n",
              "      <td>7.000000</td>\n",
              "    </tr>\n",
              "    <tr>\n",
              "      <th>75%</th>\n",
              "      <td>NaN</td>\n",
              "      <td>NaN</td>\n",
              "      <td>NaN</td>\n",
              "      <td>NaN</td>\n",
              "      <td>NaN</td>\n",
              "      <td>NaN</td>\n",
              "      <td>NaN</td>\n",
              "      <td>9.250000</td>\n",
              "    </tr>\n",
              "    <tr>\n",
              "      <th>max</th>\n",
              "      <td>NaN</td>\n",
              "      <td>NaN</td>\n",
              "      <td>NaN</td>\n",
              "      <td>NaN</td>\n",
              "      <td>NaN</td>\n",
              "      <td>NaN</td>\n",
              "      <td>NaN</td>\n",
              "      <td>10.000000</td>\n",
              "    </tr>\n",
              "  </tbody>\n",
              "</table>\n",
              "</div>"
            ]
          },
          "metadata": {}
        }
      ],
      "execution_count": 10,
      "metadata": {
        "collapsed": false,
        "outputHidden": false,
        "inputHidden": false
      }
    },
    {
      "cell_type": "code",
      "source": [
        "(data1[:-1]).info()"
      ],
      "outputs": [
        {
          "output_type": "stream",
          "name": "stdout",
          "text": [
            "<class 'pandas.core.frame.DataFrame'>\n",
            "RangeIndex: 4 entries, 0 to 3\n",
            "Data columns (total 8 columns):\n",
            "email           4 non-null object\n",
            "CT              4 non-null object\n",
            "RA              4 non-null object\n",
            "ND              4 non-null object\n",
            "Asignatura      4 non-null object\n",
            "Fecha           4 non-null datetime64[ns]\n",
            "Evaluación      4 non-null object\n",
            "Calificación    4 non-null float64\n",
            "dtypes: datetime64[ns](1), float64(1), object(6)\n",
            "memory usage: 336.0+ bytes\n"
          ]
        }
      ],
      "execution_count": 11,
      "metadata": {
        "collapsed": false,
        "outputHidden": false,
        "inputHidden": false
      }
    },
    {
      "cell_type": "code",
      "source": [
        "import ipywidgets as widgets\n",
        "from ipywidgets import interact, interact_manual"
      ],
      "outputs": [],
      "execution_count": 12,
      "metadata": {
        "collapsed": false,
        "outputHidden": false,
        "inputHidden": false
      }
    },
    {
      "cell_type": "code",
      "source": [
        "@interact\n",
        "def show_articles_more_than( column='Calificación', x=5):\n",
        "    return data1.loc[data1[column] > x]"
      ],
      "outputs": [
        {
          "output_type": "display_data",
          "data": {
            "text/plain": [
              "                             email                              CT  \\\n",
              "1  raseguinolaza001@ikasle.ehu.eus  CT2 - Capacidad de aprendizaje   \n",
              "3       mbasauri002@ikasle.ehu.eus  CT2 - Capacidad de aprendizaje   \n",
              "\n",
              "                                          RA       ND  \\\n",
              "1  2b - Analizar y sintetizar la información  Nivel 3   \n",
              "3                2c - Construir conocimiento  Nivel 3   \n",
              "\n",
              "                                          Asignatura      Fecha Evaluación  \\\n",
              "1                                26633 - Electrónica 2019-07-17      Final   \n",
              "3  25138 - Komunikazioa Euskaraz: Zientzia eta Te... 2019-07-19   Continua   \n",
              "\n",
              "   Calificación  \n",
              "1          10.0  \n",
              "3           9.0  "
            ],
            "text/html": [
              "<div>\n",
              "<style scoped>\n",
              "    .dataframe tbody tr th:only-of-type {\n",
              "        vertical-align: middle;\n",
              "    }\n",
              "\n",
              "    .dataframe tbody tr th {\n",
              "        vertical-align: top;\n",
              "    }\n",
              "\n",
              "    .dataframe thead th {\n",
              "        text-align: right;\n",
              "    }\n",
              "</style>\n",
              "<table border=\"1\" class=\"dataframe\">\n",
              "  <thead>\n",
              "    <tr style=\"text-align: right;\">\n",
              "      <th></th>\n",
              "      <th>email</th>\n",
              "      <th>CT</th>\n",
              "      <th>RA</th>\n",
              "      <th>ND</th>\n",
              "      <th>Asignatura</th>\n",
              "      <th>Fecha</th>\n",
              "      <th>Evaluación</th>\n",
              "      <th>Calificación</th>\n",
              "    </tr>\n",
              "  </thead>\n",
              "  <tbody>\n",
              "    <tr>\n",
              "      <th>1</th>\n",
              "      <td>raseguinolaza001@ikasle.ehu.eus</td>\n",
              "      <td>CT2 - Capacidad de aprendizaje</td>\n",
              "      <td>2b - Analizar y sintetizar la información</td>\n",
              "      <td>Nivel 3</td>\n",
              "      <td>26633 - Electrónica</td>\n",
              "      <td>2019-07-17</td>\n",
              "      <td>Final</td>\n",
              "      <td>10.0</td>\n",
              "    </tr>\n",
              "    <tr>\n",
              "      <th>3</th>\n",
              "      <td>mbasauri002@ikasle.ehu.eus</td>\n",
              "      <td>CT2 - Capacidad de aprendizaje</td>\n",
              "      <td>2c - Construir conocimiento</td>\n",
              "      <td>Nivel 3</td>\n",
              "      <td>25138 - Komunikazioa Euskaraz: Zientzia eta Te...</td>\n",
              "      <td>2019-07-19</td>\n",
              "      <td>Continua</td>\n",
              "      <td>9.0</td>\n",
              "    </tr>\n",
              "  </tbody>\n",
              "</table>\n",
              "</div>"
            ]
          },
          "metadata": {}
        }
      ],
      "execution_count": null,
      "metadata": {
        "collapsed": false,
        "outputHidden": false,
        "inputHidden": false
      }
    },
    {
      "cell_type": "code",
      "source": [
        "tmp=[(data['email'][:].__array__()[ii],ii) for ii in range(0,len(data['email'][:].__array__()))]\n",
        "\n",
        "\"\"\"\n",
        "widgets.Dropdown(\n",
        "    options=[('One', 1), ('Two', 2), ('Three', 3)],\n",
        "    value=2,\n",
        "    description='Number:',\n",
        ")\n",
        "@interact\n",
        "def show_articles_more_than( column='Calificación', x=5):\n",
        "    return data1.loc[data1[column] > x]\n",
        "\n",
        "\"\"\"\n",
        "def f(x):\n",
        "    display(data.iloc[x][:])\n",
        "    return None\n",
        "\n",
        "interact(f, x=widgets.Dropdown(    options=tmp,\n",
        "    value=0,\n",
        "    description='Email:',\n",
        "));"
      ],
      "outputs": [
        {
          "output_type": "display_data",
          "data": {
            "text/plain": [
              "email                aakordagoitia001@ikasle.ehu.eus\n",
              "Apellido1                               AKORDAGOITIA\n",
              "Apellido2                                   ARZANEGI\n",
              "Nombre                                         ANDER\n",
              "Grado                                             IE\n",
              "Lengua                                       Euskera\n",
              "Sexo                                          Hombre\n",
              "Primera matrícula                          2018/2019\n",
              "Última matrícula                                  --\n",
              "Observaciones                                    NaN\n",
              "Name: 0, dtype: object"
            ]
          },
          "metadata": {}
        }
      ],
      "execution_count": null,
      "metadata": {
        "collapsed": false,
        "outputHidden": false,
        "inputHidden": false
      }
    }
  ],
  "metadata": {
    "kernel_info": {
      "name": "python3"
    },
    "language_info": {
      "name": "python",
      "version": "3.7.3",
      "mimetype": "text/x-python",
      "codemirror_mode": {
        "name": "ipython",
        "version": 3
      },
      "pygments_lexer": "ipython3",
      "nbconvert_exporter": "python",
      "file_extension": ".py"
    },
    "kernelspec": {
      "name": "python3",
      "language": "python",
      "display_name": "Python 3"
    },
    "nteract": {
      "version": "0.14.5"
    }
  },
  "nbformat": 4,
  "nbformat_minor": 0
}