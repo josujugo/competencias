{
  "cells": [
    {
      "cell_type": "code",
      "source": [
        "cd /Users/josu/Downloads/"
      ],
      "outputs": [
        {
          "output_type": "stream",
          "name": "stdout",
          "text": [
            "/Users/josu/Downloads\n"
          ]
        }
      ],
      "execution_count": 5,
      "metadata": {
        "collapsed": false,
        "outputHidden": false,
        "inputHidden": false
      }
    },
    {
      "cell_type": "code",
      "source": [
        "import pandas as p"
      ],
      "outputs": [],
      "execution_count": 4,
      "metadata": {
        "collapsed": false,
        "outputHidden": false,
        "inputHidden": false
      }
    },
    {
      "cell_type": "code",
      "source": [
        "#file=p.ExcelFile('CT_anotaciones_exportado.xlsx')\n",
        "file=p.ExcelFile('CT_anotaciones.xlsx')"
      ],
      "outputs": [],
      "execution_count": 62,
      "metadata": {
        "collapsed": false,
        "outputHidden": false,
        "inputHidden": false
      }
    },
    {
      "cell_type": "code",
      "source": [
        "data=p.read_excel(file,0)"
      ],
      "outputs": [],
      "execution_count": 63,
      "metadata": {
        "collapsed": false,
        "outputHidden": false,
        "inputHidden": false
      }
    },
    {
      "cell_type": "code",
      "source": [
        "file.close()"
      ],
      "outputs": [],
      "execution_count": 65,
      "metadata": {
        "collapsed": false,
        "outputHidden": false,
        "inputHidden": false
      }
    },
    {
      "cell_type": "code",
      "source": [
        "data1=p.read_excel(file,1)"
      ],
      "outputs": [],
      "execution_count": 75,
      "metadata": {
        "collapsed": false,
        "outputHidden": false,
        "inputHidden": false
      }
    },
    {
      "cell_type": "code",
      "source": [
        "data.iloc[1][:]"
      ],
      "outputs": [
        {
          "output_type": "execute_result",
          "execution_count": 68,
          "data": {
            "text/plain": [
              "Unnamed: 0      aakordagoitia001@ikasle.ehu.eus\n",
              " Estudiantes                       AKORDAGOITIA\n",
              "Unnamed: 2                             ARZANEGI\n",
              "Unnamed: 3                                ANDER\n",
              "Unnamed: 4                                   IE\n",
              "Unnamed: 5                              Euskera\n",
              "Unnamed: 6                               Hombre\n",
              "Unnamed: 7                            2018/2019\n",
              "Unnamed: 8                                   --\n",
              "Unnamed: 9                                  NaN\n",
              "                                            NaN\n",
              "Name: 1, dtype: object"
            ]
          },
          "metadata": {}
        }
      ],
      "execution_count": 68,
      "metadata": {
        "collapsed": false,
        "outputHidden": false,
        "inputHidden": false
      }
    },
    {
      "cell_type": "code",
      "source": [
        "#data.loc[data['Unnamed: 0'] == 'aakordagoitia001@ikasle.ehu.eus']\n",
        "len(data.loc[data['Unnamed: 6'] == 'Mujer'])/(len(data.loc[data['Unnamed: 6'] == 'Mujer']) +len( data.loc[data['Unnamed: 6'] == 'Hombre']))*100\n"
      ],
      "outputs": [
        {
          "output_type": "execute_result",
          "execution_count": 83,
          "data": {
            "text/plain": [
              "25.0"
            ]
          },
          "metadata": {}
        }
      ],
      "execution_count": 83,
      "metadata": {
        "collapsed": false,
        "outputHidden": false,
        "inputHidden": false
      }
    },
    {
      "cell_type": "code",
      "source": [
        "data1.loc[data1['Unnamed: 0'] == 'darancon001@ikasle.ehu.eus']\n",
        "data1.loc[data1['Unnamed: 0'] == 'darancon001@ikasle.ehu.eus']['Unnamed: 7']"
      ],
      "outputs": [
        {
          "output_type": "execute_result",
          "execution_count": 89,
          "data": {
            "text/plain": [
              "1    2\n",
              "Name: Unnamed: 7, dtype: object"
            ]
          },
          "metadata": {}
        }
      ],
      "execution_count": 89,
      "metadata": {
        "collapsed": false,
        "outputHidden": false,
        "inputHidden": false
      }
    },
    {
      "cell_type": "code",
      "source": [
        "sum([ii[1] for ii in (data1.loc[data1['Unnamed: 0'] == 'mbasauri002@ikasle.ehu.eus']['Unnamed: 7']).items()])/(len(data1.loc[data1['Unnamed: 0'] == 'mbasauri002@ikasle.ehu.eus']['Unnamed: 7'])*1.0)\n",
        "\n"
      ],
      "outputs": [
        {
          "output_type": "execute_result",
          "execution_count": 125,
          "data": {
            "text/plain": [
              "7.0"
            ]
          },
          "metadata": {}
        }
      ],
      "execution_count": 125,
      "metadata": {
        "collapsed": false,
        "outputHidden": false,
        "inputHidden": false
      }
    },
    {
      "cell_type": "code",
      "source": [
        "tmp[0][1]"
      ],
      "outputs": [
        {
          "output_type": "execute_result",
          "execution_count": 122,
          "data": {
            "text/plain": [
              "5"
            ]
          },
          "metadata": {}
        }
      ],
      "execution_count": 122,
      "metadata": {
        "collapsed": false,
        "outputHidden": false,
        "inputHidden": false
      }
    },
    {
      "cell_type": "code",
      "source": [
        "data1"
      ],
      "outputs": [
        {
          "output_type": "execute_result",
          "execution_count": 93,
          "data": {
            "text/plain": [
              "                        Unnamed: 0                     Anotaciones  \\\n",
              "0                            email                              CT   \n",
              "1       darancon001@ikasle.ehu.eus  CT2 - Capacidad de aprendizaje   \n",
              "2  raseguinolaza001@ikasle.ehu.eus  CT2 - Capacidad de aprendizaje   \n",
              "3       mbasauri002@ikasle.ehu.eus  CT2 - Capacidad de aprendizaje   \n",
              "4       mbasauri002@ikasle.ehu.eus  CT2 - Capacidad de aprendizaje   \n",
              "5         ynieto003@ikasle.ehu.eus                             NaN   \n",
              "\n",
              "                                  Unnamed: 2 Unnamed: 3  \\\n",
              "0                                         RA         ND   \n",
              "1               5a - Conocer la terminología    Nivel 1   \n",
              "2  2b - Analizar y sintetizar la información    Nivel 3   \n",
              "3       2a - Utilizar fuentes de información    Nivel 2   \n",
              "4                2c - Construir conocimiento    Nivel 3   \n",
              "5                                        NaN        NaN   \n",
              "\n",
              "                                          Unnamed: 4           Unnamed: 5  \\\n",
              "0                                         Asignatura                Fecha   \n",
              "1  26841 - Dispositivos Electrónicos y Optoelectr...  2019-07-16 00:00:00   \n",
              "2                                26633 - Electrónica  2019-07-17 00:00:00   \n",
              "3                26662 - Fundamentos de Programación  2019-07-18 00:00:00   \n",
              "4  25138 - Komunikazioa Euskaraz: Zientzia eta Te...  2019-07-19 00:00:00   \n",
              "5                                                NaN                  NaN   \n",
              "\n",
              "   Unnamed: 6    Unnamed: 7  \n",
              "0  Evaluación  Calificación  \n",
              "1    Continua             2  \n",
              "2       Final            10  \n",
              "3    Continua             5  \n",
              "4    Continua             9  \n",
              "5         NaN           NaN  "
            ],
            "text/html": [
              "<div>\n",
              "<style scoped>\n",
              "    .dataframe tbody tr th:only-of-type {\n",
              "        vertical-align: middle;\n",
              "    }\n",
              "\n",
              "    .dataframe tbody tr th {\n",
              "        vertical-align: top;\n",
              "    }\n",
              "\n",
              "    .dataframe thead th {\n",
              "        text-align: right;\n",
              "    }\n",
              "</style>\n",
              "<table border=\"1\" class=\"dataframe\">\n",
              "  <thead>\n",
              "    <tr style=\"text-align: right;\">\n",
              "      <th></th>\n",
              "      <th>Unnamed: 0</th>\n",
              "      <th>Anotaciones</th>\n",
              "      <th>Unnamed: 2</th>\n",
              "      <th>Unnamed: 3</th>\n",
              "      <th>Unnamed: 4</th>\n",
              "      <th>Unnamed: 5</th>\n",
              "      <th>Unnamed: 6</th>\n",
              "      <th>Unnamed: 7</th>\n",
              "    </tr>\n",
              "  </thead>\n",
              "  <tbody>\n",
              "    <tr>\n",
              "      <th>0</th>\n",
              "      <td>email</td>\n",
              "      <td>CT</td>\n",
              "      <td>RA</td>\n",
              "      <td>ND</td>\n",
              "      <td>Asignatura</td>\n",
              "      <td>Fecha</td>\n",
              "      <td>Evaluación</td>\n",
              "      <td>Calificación</td>\n",
              "    </tr>\n",
              "    <tr>\n",
              "      <th>1</th>\n",
              "      <td>darancon001@ikasle.ehu.eus</td>\n",
              "      <td>CT2 - Capacidad de aprendizaje</td>\n",
              "      <td>5a - Conocer la terminología</td>\n",
              "      <td>Nivel 1</td>\n",
              "      <td>26841 - Dispositivos Electrónicos y Optoelectr...</td>\n",
              "      <td>2019-07-16 00:00:00</td>\n",
              "      <td>Continua</td>\n",
              "      <td>2</td>\n",
              "    </tr>\n",
              "    <tr>\n",
              "      <th>2</th>\n",
              "      <td>raseguinolaza001@ikasle.ehu.eus</td>\n",
              "      <td>CT2 - Capacidad de aprendizaje</td>\n",
              "      <td>2b - Analizar y sintetizar la información</td>\n",
              "      <td>Nivel 3</td>\n",
              "      <td>26633 - Electrónica</td>\n",
              "      <td>2019-07-17 00:00:00</td>\n",
              "      <td>Final</td>\n",
              "      <td>10</td>\n",
              "    </tr>\n",
              "    <tr>\n",
              "      <th>3</th>\n",
              "      <td>mbasauri002@ikasle.ehu.eus</td>\n",
              "      <td>CT2 - Capacidad de aprendizaje</td>\n",
              "      <td>2a - Utilizar fuentes de información</td>\n",
              "      <td>Nivel 2</td>\n",
              "      <td>26662 - Fundamentos de Programación</td>\n",
              "      <td>2019-07-18 00:00:00</td>\n",
              "      <td>Continua</td>\n",
              "      <td>5</td>\n",
              "    </tr>\n",
              "    <tr>\n",
              "      <th>4</th>\n",
              "      <td>mbasauri002@ikasle.ehu.eus</td>\n",
              "      <td>CT2 - Capacidad de aprendizaje</td>\n",
              "      <td>2c - Construir conocimiento</td>\n",
              "      <td>Nivel 3</td>\n",
              "      <td>25138 - Komunikazioa Euskaraz: Zientzia eta Te...</td>\n",
              "      <td>2019-07-19 00:00:00</td>\n",
              "      <td>Continua</td>\n",
              "      <td>9</td>\n",
              "    </tr>\n",
              "    <tr>\n",
              "      <th>5</th>\n",
              "      <td>ynieto003@ikasle.ehu.eus</td>\n",
              "      <td>NaN</td>\n",
              "      <td>NaN</td>\n",
              "      <td>NaN</td>\n",
              "      <td>NaN</td>\n",
              "      <td>NaN</td>\n",
              "      <td>NaN</td>\n",
              "      <td>NaN</td>\n",
              "    </tr>\n",
              "  </tbody>\n",
              "</table>\n",
              "</div>"
            ]
          },
          "metadata": {}
        }
      ],
      "execution_count": 93,
      "metadata": {
        "collapsed": false,
        "outputHidden": false,
        "inputHidden": false
      }
    }
  ],
  "metadata": {
    "kernel_info": {
      "name": "python3"
    },
    "language_info": {
      "name": "python",
      "version": "3.7.3",
      "mimetype": "text/x-python",
      "codemirror_mode": {
        "name": "ipython",
        "version": 3
      },
      "pygments_lexer": "ipython3",
      "nbconvert_exporter": "python",
      "file_extension": ".py"
    },
    "kernelspec": {
      "name": "python3",
      "language": "python",
      "display_name": "Python 3"
    },
    "nteract": {
      "version": "0.14.5"
    }
  },
  "nbformat": 4,
  "nbformat_minor": 0
}